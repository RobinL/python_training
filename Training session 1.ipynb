{
 "cells": [
  {
   "cell_type": "markdown",
   "metadata": {},
   "source": [
    "###Python training session 1\n",
    "\n",
    "_Aims_\n",
    "\n",
    "*    Basic Python syntax\n",
    "*    Introduction to the pandas data analysis package\n",
    "     *    Dataframes\n",
    "     *    Reading and writing Excel workbooks and csvs\n",
    "     *    Basic summary statistics "
   ]
  },
  {
   "cell_type": "markdown",
   "metadata": {
    "collapsed": true
   },
   "source": [
    "####Python data primatives\n",
    "\n",
    "#####Numbers"
   ]
  },
  {
   "cell_type": "code",
   "execution_count": 315,
   "metadata": {
    "collapsed": true
   },
   "outputs": [],
   "source": [
    "my_number = 1"
   ]
  },
  {
   "cell_type": "code",
   "execution_count": 316,
   "metadata": {
    "collapsed": false
   },
   "outputs": [
    {
     "name": "stdout",
     "output_type": "stream",
     "text": [
      "1\n"
     ]
    }
   ],
   "source": [
    "print my_number"
   ]
  },
  {
   "cell_type": "code",
   "execution_count": 317,
   "metadata": {
    "collapsed": false
   },
   "outputs": [
    {
     "data": {
      "text/plain": [
       "1"
      ]
     },
     "execution_count": 317,
     "metadata": {},
     "output_type": "execute_result"
    }
   ],
   "source": [
    "my_number"
   ]
  },
  {
   "cell_type": "code",
   "execution_count": 318,
   "metadata": {
    "collapsed": false
   },
   "outputs": [
    {
     "data": {
      "text/plain": [
       "int"
      ]
     },
     "execution_count": 318,
     "metadata": {},
     "output_type": "execute_result"
    }
   ],
   "source": [
    "type(my_number) #Gives you 'int', which stands for 'integer'"
   ]
  },
  {
   "cell_type": "code",
   "execution_count": 319,
   "metadata": {
    "collapsed": false
   },
   "outputs": [
    {
     "data": {
      "text/plain": [
       "float"
      ]
     },
     "execution_count": 319,
     "metadata": {},
     "output_type": "execute_result"
    }
   ],
   "source": [
    "type(2.1) "
   ]
  },
  {
   "cell_type": "markdown",
   "metadata": {},
   "source": [
    "#####Strings"
   ]
  },
  {
   "cell_type": "code",
   "execution_count": 320,
   "metadata": {
    "collapsed": true
   },
   "outputs": [],
   "source": [
    "my_string_1 = 'hello'\n",
    "\n",
    "#Note you can use \" or ' for strings but ' is preferred\n",
    "my_string_2 = \"world\""
   ]
  },
  {
   "cell_type": "code",
   "execution_count": 321,
   "metadata": {
    "collapsed": false
   },
   "outputs": [
    {
     "data": {
      "text/plain": [
       "'hello world'"
      ]
     },
     "execution_count": 321,
     "metadata": {},
     "output_type": "execute_result"
    }
   ],
   "source": [
    "#String concatenation\n",
    "my_string_1 + ' ' + my_string_2"
   ]
  },
  {
   "cell_type": "markdown",
   "metadata": {},
   "source": [
    "#####Lists (known in some other languages as arrays)\n",
    "\n",
    "Note: You don't need to worry about their size in advance"
   ]
  },
  {
   "cell_type": "code",
   "execution_count": 322,
   "metadata": {
    "collapsed": false
   },
   "outputs": [],
   "source": [
    "my_list = [10,20,30,40,50,60]"
   ]
  },
  {
   "cell_type": "code",
   "execution_count": 323,
   "metadata": {
    "collapsed": false
   },
   "outputs": [
    {
     "data": {
      "text/plain": [
       "[10, 20, 30, 40, 50, 60]"
      ]
     },
     "execution_count": 323,
     "metadata": {},
     "output_type": "execute_result"
    }
   ],
   "source": [
    "my_list"
   ]
  },
  {
   "cell_type": "code",
   "execution_count": 324,
   "metadata": {
    "collapsed": false
   },
   "outputs": [
    {
     "data": {
      "text/plain": [
       "10"
      ]
     },
     "execution_count": 324,
     "metadata": {},
     "output_type": "execute_result"
    }
   ],
   "source": [
    "my_list[0]"
   ]
  },
  {
   "cell_type": "code",
   "execution_count": 325,
   "metadata": {
    "collapsed": false
   },
   "outputs": [
    {
     "data": {
      "text/plain": [
       "30"
      ]
     },
     "execution_count": 325,
     "metadata": {},
     "output_type": "execute_result"
    }
   ],
   "source": [
    "#Note zero based indexing\n",
    "my_list[2]"
   ]
  },
  {
   "cell_type": "code",
   "execution_count": 326,
   "metadata": {
    "collapsed": false
   },
   "outputs": [
    {
     "data": {
      "text/plain": [
       "210"
      ]
     },
     "execution_count": 326,
     "metadata": {},
     "output_type": "execute_result"
    }
   ],
   "source": [
    "sum(my_list)"
   ]
  },
  {
   "cell_type": "code",
   "execution_count": 327,
   "metadata": {
    "collapsed": false
   },
   "outputs": [
    {
     "data": {
      "text/plain": [
       "[10, 20]"
      ]
     },
     "execution_count": 327,
     "metadata": {},
     "output_type": "execute_result"
    }
   ],
   "source": [
    "#List slicing\n",
    "my_list[0:2]"
   ]
  },
  {
   "cell_type": "code",
   "execution_count": 328,
   "metadata": {
    "collapsed": false
   },
   "outputs": [
    {
     "data": {
      "text/plain": [
       "60"
      ]
     },
     "execution_count": 328,
     "metadata": {},
     "output_type": "execute_result"
    }
   ],
   "source": [
    "my_list[-1]"
   ]
  },
  {
   "cell_type": "code",
   "execution_count": 329,
   "metadata": {
    "collapsed": false
   },
   "outputs": [
    {
     "data": {
      "text/plain": [
       "[30, 40]"
      ]
     },
     "execution_count": 329,
     "metadata": {},
     "output_type": "execute_result"
    }
   ],
   "source": [
    "my_list[2:4]"
   ]
  },
  {
   "cell_type": "code",
   "execution_count": 330,
   "metadata": {
    "collapsed": false
   },
   "outputs": [
    {
     "data": {
      "text/plain": [
       "[10, 30]"
      ]
     },
     "execution_count": 330,
     "metadata": {},
     "output_type": "execute_result"
    }
   ],
   "source": [
    "my_list[0:3:2]"
   ]
  },
  {
   "cell_type": "code",
   "execution_count": 331,
   "metadata": {
    "collapsed": false
   },
   "outputs": [
    {
     "name": "stdout",
     "output_type": "stream",
     "text": [
      "A short sentence.\n",
      "A - short - sentence.\n"
     ]
    }
   ],
   "source": [
    "my_list = ['A', 'short', 'sentence.']\n",
    "print ' '.join(my_list)\n",
    "print ' - '.join(my_list)"
   ]
  },
  {
   "cell_type": "code",
   "execution_count": 332,
   "metadata": {
    "collapsed": false
   },
   "outputs": [
    {
     "data": {
      "text/plain": [
       "['A', 'short', 'sentence.']"
      ]
     },
     "execution_count": 332,
     "metadata": {},
     "output_type": "execute_result"
    }
   ],
   "source": [
    "'A short sentence.'.split(' ')"
   ]
  },
  {
   "cell_type": "code",
   "execution_count": 333,
   "metadata": {
    "collapsed": false
   },
   "outputs": [
    {
     "data": {
      "text/plain": [
       "['b', 'a', 'c', 'k', 'w', 'a', 'r', 'd', 's']"
      ]
     },
     "execution_count": 333,
     "metadata": {},
     "output_type": "execute_result"
    }
   ],
   "source": [
    "#Note that strings function in a similar way to lists when you slice them:\n",
    "\"hello\"[:4]\n",
    "\"backwards\"[::-1]\n",
    "\"backwards\"[::-2]\n",
    "\n",
    "#You can explicitly convert them into a list\n",
    "list('backwards')"
   ]
  },
  {
   "cell_type": "code",
   "execution_count": 334,
   "metadata": {
    "collapsed": false
   },
   "outputs": [
    {
     "data": {
      "text/plain": [
       "{'a', 'b'}"
      ]
     },
     "execution_count": 334,
     "metadata": {},
     "output_type": "execute_result"
    }
   ],
   "source": [
    "#Finally, there's something called a 'set' which can only contain one copy of each item:\n",
    "set(['a','b','a'])"
   ]
  },
  {
   "cell_type": "markdown",
   "metadata": {},
   "source": [
    "#####Dictionaries (hash tables)\n",
    "Dictionaries provide a way of performing 'lookups', similar to a vlookup in Excel\n",
    "\n",
    "Examples:  Mapping between LA codes and their text names.  Or categorising things - e.g. food into fruit and veg."
   ]
  },
  {
   "cell_type": "code",
   "execution_count": 335,
   "metadata": {
    "collapsed": true
   },
   "outputs": [],
   "source": [
    "my_dictionary = {'key_1' : 'my_value_1',  \n",
    "                 'key_2' : 'my_value_2'} "
   ]
  },
  {
   "cell_type": "code",
   "execution_count": 336,
   "metadata": {
    "collapsed": false
   },
   "outputs": [
    {
     "data": {
      "text/plain": [
       "'my_value_1'"
      ]
     },
     "execution_count": 336,
     "metadata": {},
     "output_type": "execute_result"
    }
   ],
   "source": [
    "my_dictionary['key_1']"
   ]
  },
  {
   "cell_type": "code",
   "execution_count": 337,
   "metadata": {
    "collapsed": true
   },
   "outputs": [],
   "source": [
    "my_dictionary['key_3'] = 'my_value_3'"
   ]
  },
  {
   "cell_type": "code",
   "execution_count": 338,
   "metadata": {
    "collapsed": false
   },
   "outputs": [
    {
     "data": {
      "text/plain": [
       "{'key_1': 'my_value_1', 'key_2': 'my_value_2', 'key_3': 'my_value_3'}"
      ]
     },
     "execution_count": 338,
     "metadata": {},
     "output_type": "execute_result"
    }
   ],
   "source": [
    "my_dictionary"
   ]
  },
  {
   "cell_type": "markdown",
   "metadata": {},
   "source": [
    "#####Basic maths"
   ]
  },
  {
   "cell_type": "code",
   "execution_count": 339,
   "metadata": {
    "collapsed": false
   },
   "outputs": [
    {
     "data": {
      "text/plain": [
       "7"
      ]
     },
     "execution_count": 339,
     "metadata": {},
     "output_type": "execute_result"
    }
   ],
   "source": [
    "4+4-1"
   ]
  },
  {
   "cell_type": "code",
   "execution_count": 340,
   "metadata": {
    "collapsed": false
   },
   "outputs": [
    {
     "data": {
      "text/plain": [
       "8"
      ]
     },
     "execution_count": 340,
     "metadata": {},
     "output_type": "execute_result"
    }
   ],
   "source": [
    "2*4"
   ]
  },
  {
   "cell_type": "code",
   "execution_count": 341,
   "metadata": {
    "collapsed": false
   },
   "outputs": [
    {
     "data": {
      "text/plain": [
       "2"
      ]
     },
     "execution_count": 341,
     "metadata": {},
     "output_type": "execute_result"
    }
   ],
   "source": [
    "5/2  #Watch out!"
   ]
  },
  {
   "cell_type": "code",
   "execution_count": 342,
   "metadata": {
    "collapsed": false
   },
   "outputs": [
    {
     "data": {
      "text/plain": [
       "2.5"
      ]
     },
     "execution_count": 342,
     "metadata": {},
     "output_type": "execute_result"
    }
   ],
   "source": [
    "5.0/2"
   ]
  },
  {
   "cell_type": "code",
   "execution_count": 343,
   "metadata": {
    "collapsed": false
   },
   "outputs": [
    {
     "data": {
      "text/plain": [
       "16"
      ]
     },
     "execution_count": 343,
     "metadata": {},
     "output_type": "execute_result"
    }
   ],
   "source": [
    "2**4"
   ]
  },
  {
   "cell_type": "code",
   "execution_count": 344,
   "metadata": {
    "collapsed": false
   },
   "outputs": [
    {
     "data": {
      "text/plain": [
       "25"
      ]
     },
     "execution_count": 344,
     "metadata": {},
     "output_type": "execute_result"
    }
   ],
   "source": [
    "a = 10\n",
    "b = 15\n",
    "a+b"
   ]
  },
  {
   "cell_type": "markdown",
   "metadata": {},
   "source": [
    "#####Exercises 1"
   ]
  },
  {
   "cell_type": "code",
   "execution_count": 9,
   "metadata": {
    "collapsed": false
   },
   "outputs": [],
   "source": [
    "#1.  Create a list containing the positive integers between 1 and 20.  \n",
    "#Assign it to a variable called 'my_list' and then sum it.  \n",
    "#Can you find a better way to create it than typing it out?\n",
    "\n",
    "my_list = range(1,21)"
   ]
  },
  {
   "cell_type": "code",
   "execution_count": 14,
   "metadata": {
    "collapsed": false
   },
   "outputs": [
    {
     "data": {
      "text/plain": [
       "210"
      ]
     },
     "execution_count": 14,
     "metadata": {},
     "output_type": "execute_result"
    }
   ],
   "source": [
    "#2.  \n",
    "#a. Slice the list you've just created, taking the first 10 elements\n",
    "#b. Slice the list taking the last 10 elements\n",
    "#c. Find the last element in the list\n",
    "#d. Sum the elements in the list\n",
    "\n",
    "#my_list[:10]\n",
    "#my_list[10:]\n",
    "sum(my_list)"
   ]
  },
  {
   "cell_type": "code",
   "execution_count": 15,
   "metadata": {
    "collapsed": false
   },
   "outputs": [
    {
     "data": {
      "text/plain": [
       "'fruit'"
      ]
     },
     "execution_count": 15,
     "metadata": {},
     "output_type": "execute_result"
    }
   ],
   "source": [
    "#3. Create a dictionary that maps apples, carrots, oranges, and peas (as keys) to the values (categories) fruit and vegetable.\n",
    "\n",
    "fruits_dict = {'apple':'fruit', \n",
    "               'carrot':'vegetable', \n",
    "               'orange':'fruit', \n",
    "               'pea':'vegetable'}\n",
    "\n",
    "#b:  Lookup the value of 'apple'\n",
    "fruits_dict[\"apple\"]"
   ]
  },
  {
   "cell_type": "code",
   "execution_count": 348,
   "metadata": {
    "collapsed": false
   },
   "outputs": [
    {
     "data": {
      "text/plain": [
       "['and', 'to', 'very', 'Python', 'session']"
      ]
     },
     "execution_count": 348,
     "metadata": {},
     "output_type": "execute_result"
    }
   ],
   "source": [
    "#4.  Challenge for those who have done all this before:\n",
    "\n",
    "#Extract the hidden message from the following list, putting it into a single string called final_string\n",
    "#If you still have time, recreate my_list_evens and my_list_odds from final_string\n",
    "\n",
    "my_list_evens = ['Hello', 'welcome', 'the', 'first', 'training']\n",
    "my_list_odds = ['and', 'to', 'very', 'Python', 'session']\n",
    "\n",
    "' '.join([' '.join(i) for i in zip(my_list_evens, my_list_odds)])\n",
    "\n",
    "final_string = ''\n",
    "for i in range(len(my_list_evens)):\n",
    "    final_string += my_list_evens[i] + ' ' + my_list_odds[i] + ' '\n",
    "final_string = final_string.strip()\n",
    "\n",
    "my_full_list = my_list_evens + my_list_odds\n",
    "final_string = ''\n",
    "for i in range(5):\n",
    "    final_string = final_string + my_full_list[i] + ' ' + my_full_list[i+5] + ' '\n",
    "final_string = final_string.strip()\n",
    "\n",
    "final_string.split(' ')[::2]\n",
    "final_string.split(' ')[1::2]"
   ]
  },
  {
   "cell_type": "markdown",
   "metadata": {},
   "source": [
    "###Control statements\n",
    "#####If statement"
   ]
  },
  {
   "cell_type": "code",
   "execution_count": 87,
   "metadata": {
    "collapsed": false
   },
   "outputs": [
    {
     "name": "stdout",
     "output_type": "stream",
     "text": [
      "The draw was negative\n",
      "hello\n"
     ]
    }
   ],
   "source": [
    "import random\n",
    "draw_from_random_normal = random.normalvariate(0,1)\n",
    "\n",
    "if draw_from_random_normal == 0:\n",
    "    print 'The draw was positive'\n",
    "\n",
    "else:    \n",
    "    print 'The draw was negative'\n",
    "    print \"hello\"\n",
    "\n",
    " \n",
    "#ctrl enter to run this cell multiple times"
   ]
  },
  {
   "cell_type": "code",
   "execution_count": 88,
   "metadata": {
    "collapsed": false
   },
   "outputs": [
    {
     "name": "stdout",
     "output_type": "stream",
     "text": [
      "The draw was -0.388566788077\n",
      "The draw was negative\n"
     ]
    }
   ],
   "source": [
    "draw_from_random_normal = random.normalvariate(0,1)\n",
    "\n",
    "#This uses string 'templating', whereby we leave a 'blank' in the string and later 'replace' the\n",
    "#blanks using the format method.\n",
    "\n",
    "print 'The draw was {}'.format(draw_from_random_normal)\n",
    "\n",
    "\n",
    "if draw_from_random_normal > 0.5:\n",
    "    print 'The draw was greater than 0.5'\n",
    "elif draw_from_random_normal > 0:\n",
    "    print 'The draw was positive but less than 0.5'\n",
    "else:\n",
    "    print 'The draw was negative'\n",
    "    "
   ]
  },
  {
   "cell_type": "code",
   "execution_count": 351,
   "metadata": {
    "collapsed": false
   },
   "outputs": [
    {
     "ename": "SyntaxError",
     "evalue": "can't assign to literal (<ipython-input-351-8be6f3977a2d>, line 4)",
     "output_type": "error",
     "traceback": [
      "\u001b[1;36m  File \u001b[1;32m\"<ipython-input-351-8be6f3977a2d>\"\u001b[1;36m, line \u001b[1;32m4\u001b[0m\n\u001b[1;33m    2=2  #This thows and error because you can't try to change the value of 2\u001b[0m\n\u001b[1;31mSyntaxError\u001b[0m\u001b[1;31m:\u001b[0m can't assign to literal\n"
     ]
    }
   ],
   "source": [
    "#Note that in Python that testing for equality (e.g. in an if statement)\n",
    "#requires a different operator to assignemtn\n",
    "\n",
    "2=2  #This thows and error because you can't try to change the value of 2 \n",
    "#(you don't want to assign the value 3 to the integer 2)"
   ]
  },
  {
   "cell_type": "code",
   "execution_count": 352,
   "metadata": {
    "collapsed": false
   },
   "outputs": [
    {
     "data": {
      "text/plain": [
       "False"
      ]
     },
     "execution_count": 352,
     "metadata": {},
     "output_type": "execute_result"
    }
   ],
   "source": [
    "2==3 #This is fine because you're 'asking' python whether 2 is equal to 3"
   ]
  },
  {
   "cell_type": "markdown",
   "metadata": {},
   "source": [
    "#####Loops.  \n",
    "\n",
    "Note almost all loops in Python are achieved using 'iterators' rather than attempting to access each item of a list"
   ]
  },
  {
   "cell_type": "code",
   "execution_count": 353,
   "metadata": {
    "collapsed": false
   },
   "outputs": [
    {
     "name": "stdout",
     "output_type": "stream",
     "text": [
      "a\n",
      "b\n",
      "c\n",
      "d\n",
      "e\n"
     ]
    }
   ],
   "source": [
    "import string\n",
    "\n",
    "my_list = ['a', 'b', 'c', 'd', 'e']\n",
    "my_list = list(string.ascii_lowercase[:5]) #Not needed - produces same result as above - just here \n",
    "#as a tip of what's built into Python\n",
    "\n",
    "#This is the standard way to iterate (loop) in Python\n",
    "for my_item in my_list:\n",
    "    print my_item"
   ]
  },
  {
   "cell_type": "code",
   "execution_count": 354,
   "metadata": {
    "collapsed": false
   },
   "outputs": [
    {
     "name": "stdout",
     "output_type": "stream",
     "text": [
      "0\n",
      "1\n",
      "2\n",
      "3\n",
      "4\n"
     ]
    }
   ],
   "source": [
    "#There is no such thing as 'for i = 0 to 5' but you can achieve the same thing as follows:\n",
    "for i in [0,1,2,3,4,5]:\n",
    "    print i"
   ]
  },
  {
   "cell_type": "code",
   "execution_count": 355,
   "metadata": {
    "collapsed": false
   },
   "outputs": [
    {
     "name": "stdout",
     "output_type": "stream",
     "text": [
      "a\n",
      "b\n",
      "c\n",
      "d\n",
      "e\n"
     ]
    }
   ],
   "source": [
    "#Don't do this unless you have a good reason\n",
    "my_list = ['a', 'b', 'c', 'd', 'e']\n",
    "for i in range(0,5):\n",
    "    print my_list[i]"
   ]
  },
  {
   "cell_type": "code",
   "execution_count": 356,
   "metadata": {
    "collapsed": false
   },
   "outputs": [
    {
     "name": "stdout",
     "output_type": "stream",
     "text": [
      "orange\n",
      "carrot\n",
      "apple\n",
      "pea\n"
     ]
    }
   ],
   "source": [
    "#You can also loop over dictionaries\n",
    "my_dict = {'apple':'fruit',\n",
    "           'carrot':'vegetable',\n",
    "           'orange':'fruit', \n",
    "           'pea':'vegetable'}\n",
    "\n",
    "for my_key in my_dict:\n",
    "    print my_key"
   ]
  },
  {
   "cell_type": "code",
   "execution_count": 357,
   "metadata": {
    "collapsed": false
   },
   "outputs": [
    {
     "name": "stdout",
     "output_type": "stream",
     "text": [
      "orange\n",
      "fruit\n",
      "A orange is a fruit\n",
      "carrot\n",
      "vegetable\n",
      "A carrot is a vegetable\n",
      "apple\n",
      "fruit\n",
      "A apple is a fruit\n",
      "pea\n",
      "vegetable\n",
      "A pea is a vegetable\n"
     ]
    }
   ],
   "source": [
    "for my_key, my_value in my_dict.iteritems():\n",
    "    print my_key\n",
    "    print my_value\n",
    "    print 'A {} is a {}'.format(my_key, my_value)"
   ]
  },
  {
   "cell_type": "markdown",
   "metadata": {},
   "source": [
    "#####Exercises 2"
   ]
  },
  {
   "cell_type": "code",
   "execution_count": 358,
   "metadata": {
    "collapsed": true
   },
   "outputs": [],
   "source": [
    "#1.  Write an if statement that checks whether the absolute value (use abs(number) ) \n",
    "#of a random number generated using random.normalvariate(0,1) is greater than 1.  \n",
    "\n",
    "#The statement should print a sensible message "
   ]
  },
  {
   "cell_type": "code",
   "execution_count": 359,
   "metadata": {
    "collapsed": true
   },
   "outputs": [],
   "source": [
    "#2.  Write a simple loop that prints each element in the following list: \n",
    "my_list = ['Print', 'this', 'list', 'on', 'each', 'line']"
   ]
  },
  {
   "cell_type": "code",
   "execution_count": 360,
   "metadata": {
    "collapsed": true
   },
   "outputs": [],
   "source": [
    "#3.  Write a simple loop that, using a dictionary, prints the category for each of the following items:\n",
    "my_list = ['pea', 'apple', 'orange', 'orange', 'orange', 'pea', 'apple', 'pea']"
   ]
  },
  {
   "cell_type": "code",
   "execution_count": 361,
   "metadata": {
    "collapsed": true
   },
   "outputs": [],
   "source": [
    "#4.  Write some code that finds the unique items in the following list.  \n",
    "#Try this first without using a set\n",
    "my_list = ['pea', 'apple', 'orange', 'orange', 'orange', 'pea', 'apple', 'pea']"
   ]
  },
  {
   "cell_type": "code",
   "execution_count": 362,
   "metadata": {
    "collapsed": false
   },
   "outputs": [
    {
     "data": {
      "text/plain": [
       "{'cats': {'apple': 0, 'carrot': 0, 'orange': 0, 'pea': 0},\n",
       " 'items': {'apple': 48, 'carrot': 55, 'orange': 46, 'pea': 47}}"
      ]
     },
     "execution_count": 362,
     "metadata": {},
     "output_type": "execute_result"
    }
   ],
   "source": [
    "#5.  Challenge: Write a program that counts the number of each item in my_list, \n",
    "#and the number in each category (fruit, veg), and stores it in an appropriate data format\n",
    "\n",
    "import random\n",
    "my_list = \n",
    "[random.choice(['apple', 'carrot', 'pea', 'orange']) for i in range(200)]\n",
    "\n",
    "from collections import Counter\n",
    "\n",
    "c_item = Counter()\n",
    "c_cat = Counter()\n",
    "\n",
    "[c_item.update([i]) for i in my_list]\n",
    "[c_cat.update([fruits_dict[i]]) for i in my_list]\n",
    "\n",
    "{\"items\": dict(c_item), \"cats\": dict(c_cat)}\n",
    "\n",
    "items_dict = {}\n",
    "for i in my_list:\n",
    "    if i in items_dict:\n",
    "        items_dict[i] += 1\n",
    "    else:\n",
    "        items_dict[i] = 0\n",
    "        \n",
    "cat_dict = {}\n",
    "for i in my_list:\n",
    "    cat = fruits_dict[i]\n",
    "    if cat in cat_dict:\n",
    "        cat_dict[i] += 1\n",
    "    else:\n",
    "        cat_dict[i] = 0        \n",
    "\n",
    "{\"items\": items_dict, \"cats\": cat_dict}"
   ]
  },
  {
   "cell_type": "code",
   "execution_count": 2,
   "metadata": {
    "collapsed": false
   },
   "outputs": [
    {
     "data": {
      "text/plain": [
       "{'cats': {'fruit': 96, 'vegetable': 104},\n",
       " 'items': {'apple': 53, 'carrot': 55, 'orange': 43, 'pea': 49}}"
      ]
     },
     "execution_count": 2,
     "metadata": {},
     "output_type": "execute_result"
    }
   ],
   "source": [
    "import random\n",
    "my_list = [random.choice(['apple', 'carrot', 'pea', 'orange']) for i in range(200)]\n",
    "fruits_dict = {'apple':'fruit', \n",
    "               'carrot':'vegetable', \n",
    "               'orange':'fruit', \n",
    "               'pea':'vegetable'}\n",
    "from collections import Counter\n",
    "\n",
    "c_item = Counter()\n",
    "c_cat = Counter()\n",
    "\n",
    "[c_item.update([i]) for i in my_list]\n",
    "[c_cat.update([fruits_dict[i]]) for i in my_list]\n",
    "\n",
    "{\"items\": dict(c_item), \"cats\": dict(c_cat)}"
   ]
  },
  {
   "cell_type": "code",
   "execution_count": 4,
   "metadata": {
    "collapsed": false
   },
   "outputs": [
    {
     "data": {
      "text/plain": [
       "[2, 4, 6]"
      ]
     },
     "execution_count": 4,
     "metadata": {},
     "output_type": "execute_result"
    }
   ],
   "source": [
    "my_list = [1,2,3]\n",
    "my_list_2 = [i*2 for i in my_list]\n",
    "my_list_2"
   ]
  },
  {
   "cell_type": "markdown",
   "metadata": {},
   "source": [
    "####Pandas\n",
    "So far we've been using only 'core Python' - everything we have used\n",
    "is 'built in' to Python itself.\n",
    "\n",
    "However most of the statistical functionality of Python is built into 'packages'.\n",
    "'Packages' are programs which are written in Python by third parties, and\n",
    "made available for us to use\n",
    "\n",
    "Pandas (short for Panal Data Analysis) is one such program.\n",
    "\n",
    "In addition to the data primatives we've already seen, it gives us access to 'dataframes', which are table-like objects.  You can think of it as bringing 'Excel-like' functionality to the Python language, only much more powerful."
   ]
  },
  {
   "cell_type": "code",
   "execution_count": 2,
   "metadata": {
    "collapsed": true
   },
   "outputs": [],
   "source": [
    "import pandas as pd #This is how to import a module"
   ]
  },
  {
   "cell_type": "code",
   "execution_count": 3,
   "metadata": {
    "collapsed": false
   },
   "outputs": [
    {
     "data": {
      "text/html": [
       "<div style=\"max-height:1000px;max-width:1500px;overflow:auto;\">\n",
       "<table border=\"1\" class=\"dataframe\">\n",
       "  <thead>\n",
       "    <tr style=\"text-align: right;\">\n",
       "      <th></th>\n",
       "      <th>country</th>\n",
       "      <th>country_code</th>\n",
       "      <th>product</th>\n",
       "      <th>product_code</th>\n",
       "      <th>quantity</th>\n",
       "    </tr>\n",
       "  </thead>\n",
       "  <tbody>\n",
       "    <tr>\n",
       "      <th>0</th>\n",
       "      <td>     Germany</td>\n",
       "      <td> DE</td>\n",
       "      <td> Motor cars and other motor vehicles principall...</td>\n",
       "      <td> 8703</td>\n",
       "      <td> 78742192991</td>\n",
       "    </tr>\n",
       "    <tr>\n",
       "      <th>1</th>\n",
       "      <td>     Belgium</td>\n",
       "      <td> BE</td>\n",
       "      <td> Motor cars and other motor vehicles principall...</td>\n",
       "      <td> 8703</td>\n",
       "      <td> 24712539381</td>\n",
       "    </tr>\n",
       "    <tr>\n",
       "      <th>2</th>\n",
       "      <td>     Germany</td>\n",
       "      <td> DE</td>\n",
       "      <td> Parts and accessories for tractors, motor vehi...</td>\n",
       "      <td> 8708</td>\n",
       "      <td> 20153724840</td>\n",
       "    </tr>\n",
       "    <tr>\n",
       "      <th>3</th>\n",
       "      <td>       Spain</td>\n",
       "      <td> ES</td>\n",
       "      <td> Motor cars and other motor vehicles principall...</td>\n",
       "      <td> 8703</td>\n",
       "      <td> 16420774433</td>\n",
       "    </tr>\n",
       "    <tr>\n",
       "      <th>4</th>\n",
       "      <td> Netherlands</td>\n",
       "      <td> NL</td>\n",
       "      <td> Petroleum oils and oils obtained from bitumino...</td>\n",
       "      <td> 2710</td>\n",
       "      <td> 15773706885</td>\n",
       "    </tr>\n",
       "  </tbody>\n",
       "</table>\n",
       "</div>"
      ],
      "text/plain": [
       "       country country_code  \\\n",
       "0      Germany           DE   \n",
       "1      Belgium           BE   \n",
       "2      Germany           DE   \n",
       "3        Spain           ES   \n",
       "4  Netherlands           NL   \n",
       "\n",
       "                                             product  product_code  \\\n",
       "0  Motor cars and other motor vehicles principall...          8703   \n",
       "1  Motor cars and other motor vehicles principall...          8703   \n",
       "2  Parts and accessories for tractors, motor vehi...          8708   \n",
       "3  Motor cars and other motor vehicles principall...          8703   \n",
       "4  Petroleum oils and oils obtained from bitumino...          2710   \n",
       "\n",
       "      quantity  \n",
       "0  78742192991  \n",
       "1  24712539381  \n",
       "2  20153724840  \n",
       "3  16420774433  \n",
       "4  15773706885  "
      ]
     },
     "execution_count": 3,
     "metadata": {},
     "output_type": "execute_result"
    }
   ],
   "source": [
    "#Reading in a csv file\n",
    "df = pd.read_csv(\"trade_data_utf8.csv\")\n",
    "df.head()"
   ]
  },
  {
   "cell_type": "code",
   "execution_count": 4,
   "metadata": {
    "collapsed": false
   },
   "outputs": [
    {
     "data": {
      "text/html": [
       "<div style=\"max-height:1000px;max-width:1500px;overflow:auto;\">\n",
       "<table border=\"1\" class=\"dataframe\">\n",
       "  <thead>\n",
       "    <tr style=\"text-align: right;\">\n",
       "      <th></th>\n",
       "      <th>country</th>\n",
       "      <th>country_code</th>\n",
       "      <th>product</th>\n",
       "      <th>product_code</th>\n",
       "      <th>quantity</th>\n",
       "    </tr>\n",
       "  </thead>\n",
       "  <tbody>\n",
       "    <tr>\n",
       "      <th>995</th>\n",
       "      <td>          Italy</td>\n",
       "      <td> IT</td>\n",
       "      <td> Footwear with outer soles of rubber, plastics,...</td>\n",
       "      <td> 6404</td>\n",
       "      <td> 257771665</td>\n",
       "    </tr>\n",
       "    <tr>\n",
       "      <th>996</th>\n",
       "      <td> Czech Republic</td>\n",
       "      <td> CZ</td>\n",
       "      <td> Sugar confectionery not containing cocoa, incl...</td>\n",
       "      <td> 1704</td>\n",
       "      <td> 257412595</td>\n",
       "    </tr>\n",
       "    <tr>\n",
       "      <th>997</th>\n",
       "      <td>          Italy</td>\n",
       "      <td> IT</td>\n",
       "      <td> Men's or boys' overcoats, car coats, capes, cl...</td>\n",
       "      <td> 6201</td>\n",
       "      <td> 257332675</td>\n",
       "    </tr>\n",
       "    <tr>\n",
       "      <th>998</th>\n",
       "      <td>    Netherlands</td>\n",
       "      <td> NL</td>\n",
       "      <td> Fork-lift trucks; other works trucks fitted wi...</td>\n",
       "      <td> 8427</td>\n",
       "      <td> 256684979</td>\n",
       "    </tr>\n",
       "    <tr>\n",
       "      <th>999</th>\n",
       "      <td>          Spain</td>\n",
       "      <td> ES</td>\n",
       "      <td> Jerseys, pullovers, cardigans, waistcoats and ...</td>\n",
       "      <td> 6110</td>\n",
       "      <td> 256509885</td>\n",
       "    </tr>\n",
       "  </tbody>\n",
       "</table>\n",
       "</div>"
      ],
      "text/plain": [
       "            country country_code  \\\n",
       "995           Italy           IT   \n",
       "996  Czech Republic           CZ   \n",
       "997           Italy           IT   \n",
       "998     Netherlands           NL   \n",
       "999           Spain           ES   \n",
       "\n",
       "                                               product  product_code  \\\n",
       "995  Footwear with outer soles of rubber, plastics,...          6404   \n",
       "996  Sugar confectionery not containing cocoa, incl...          1704   \n",
       "997  Men's or boys' overcoats, car coats, capes, cl...          6201   \n",
       "998  Fork-lift trucks; other works trucks fitted wi...          8427   \n",
       "999  Jerseys, pullovers, cardigans, waistcoats and ...          6110   \n",
       "\n",
       "      quantity  \n",
       "995  257771665  \n",
       "996  257412595  \n",
       "997  257332675  \n",
       "998  256684979  \n",
       "999  256509885  "
      ]
     },
     "execution_count": 4,
     "metadata": {},
     "output_type": "execute_result"
    }
   ],
   "source": [
    "#The head and tail methods allow you to extract/view the start and end of the dataframe\n",
    "df.tail()"
   ]
  },
  {
   "cell_type": "code",
   "execution_count": 5,
   "metadata": {
    "collapsed": false
   },
   "outputs": [
    {
     "data": {
      "text/html": [
       "<div style=\"max-height:1000px;max-width:1500px;overflow:auto;\">\n",
       "<table border=\"1\" class=\"dataframe\">\n",
       "  <thead>\n",
       "    <tr style=\"text-align: right;\">\n",
       "      <th></th>\n",
       "      <th>country</th>\n",
       "      <th>country_code</th>\n",
       "      <th>product</th>\n",
       "      <th>product_code</th>\n",
       "      <th>quantity</th>\n",
       "    </tr>\n",
       "  </thead>\n",
       "  <tbody>\n",
       "    <tr>\n",
       "      <th>0</th>\n",
       "      <td>     Germany</td>\n",
       "      <td> DE</td>\n",
       "      <td> Motor cars and other motor vehicles principall...</td>\n",
       "      <td> 8703</td>\n",
       "      <td> 78742192991</td>\n",
       "    </tr>\n",
       "    <tr>\n",
       "      <th>1</th>\n",
       "      <td>     Belgium</td>\n",
       "      <td> BE</td>\n",
       "      <td> Motor cars and other motor vehicles principall...</td>\n",
       "      <td> 8703</td>\n",
       "      <td> 24712539381</td>\n",
       "    </tr>\n",
       "    <tr>\n",
       "      <th>2</th>\n",
       "      <td>     Germany</td>\n",
       "      <td> DE</td>\n",
       "      <td> Parts and accessories for tractors, motor vehi...</td>\n",
       "      <td> 8708</td>\n",
       "      <td> 20153724840</td>\n",
       "    </tr>\n",
       "    <tr>\n",
       "      <th>3</th>\n",
       "      <td>       Spain</td>\n",
       "      <td> ES</td>\n",
       "      <td> Motor cars and other motor vehicles principall...</td>\n",
       "      <td> 8703</td>\n",
       "      <td> 16420774433</td>\n",
       "    </tr>\n",
       "    <tr>\n",
       "      <th>4</th>\n",
       "      <td> Netherlands</td>\n",
       "      <td> NL</td>\n",
       "      <td> Petroleum oils and oils obtained from bitumino...</td>\n",
       "      <td> 2710</td>\n",
       "      <td> 15773706885</td>\n",
       "    </tr>\n",
       "  </tbody>\n",
       "</table>\n",
       "</div>"
      ],
      "text/plain": [
       "       country country_code  \\\n",
       "0      Germany           DE   \n",
       "1      Belgium           BE   \n",
       "2      Germany           DE   \n",
       "3        Spain           ES   \n",
       "4  Netherlands           NL   \n",
       "\n",
       "                                             product  product_code  \\\n",
       "0  Motor cars and other motor vehicles principall...          8703   \n",
       "1  Motor cars and other motor vehicles principall...          8703   \n",
       "2  Parts and accessories for tractors, motor vehi...          8708   \n",
       "3  Motor cars and other motor vehicles principall...          8703   \n",
       "4  Petroleum oils and oils obtained from bitumino...          2710   \n",
       "\n",
       "      quantity  \n",
       "0  78742192991  \n",
       "1  24712539381  \n",
       "2  20153724840  \n",
       "3  16420774433  \n",
       "4  15773706885  "
      ]
     },
     "execution_count": 5,
     "metadata": {},
     "output_type": "execute_result"
    }
   ],
   "source": [
    "df.head()"
   ]
  },
  {
   "cell_type": "code",
   "execution_count": 6,
   "metadata": {
    "collapsed": false
   },
   "outputs": [
    {
     "data": {
      "text/plain": [
       "1000"
      ]
     },
     "execution_count": 6,
     "metadata": {},
     "output_type": "execute_result"
    }
   ],
   "source": [
    "#Some of the syntax for dataframes is very similar to list syntax\n",
    "len(df)"
   ]
  },
  {
   "cell_type": "code",
   "execution_count": 7,
   "metadata": {
    "collapsed": false
   },
   "outputs": [
    {
     "data": {
      "text/html": [
       "<div style=\"max-height:1000px;max-width:1500px;overflow:auto;\">\n",
       "<table border=\"1\" class=\"dataframe\">\n",
       "  <thead>\n",
       "    <tr style=\"text-align: right;\">\n",
       "      <th></th>\n",
       "      <th>country</th>\n",
       "      <th>country_code</th>\n",
       "      <th>product</th>\n",
       "      <th>product_code</th>\n",
       "      <th>quantity</th>\n",
       "    </tr>\n",
       "  </thead>\n",
       "  <tbody>\n",
       "    <tr>\n",
       "      <th>1</th>\n",
       "      <td>     Belgium</td>\n",
       "      <td> BE</td>\n",
       "      <td> Motor cars and other motor vehicles principall...</td>\n",
       "      <td> 8703</td>\n",
       "      <td> 24712539381</td>\n",
       "    </tr>\n",
       "    <tr>\n",
       "      <th>2</th>\n",
       "      <td>     Germany</td>\n",
       "      <td> DE</td>\n",
       "      <td> Parts and accessories for tractors, motor vehi...</td>\n",
       "      <td> 8708</td>\n",
       "      <td> 20153724840</td>\n",
       "    </tr>\n",
       "    <tr>\n",
       "      <th>3</th>\n",
       "      <td>       Spain</td>\n",
       "      <td> ES</td>\n",
       "      <td> Motor cars and other motor vehicles principall...</td>\n",
       "      <td> 8703</td>\n",
       "      <td> 16420774433</td>\n",
       "    </tr>\n",
       "    <tr>\n",
       "      <th>4</th>\n",
       "      <td> Netherlands</td>\n",
       "      <td> NL</td>\n",
       "      <td> Petroleum oils and oils obtained from bitumino...</td>\n",
       "      <td> 2710</td>\n",
       "      <td> 15773706885</td>\n",
       "    </tr>\n",
       "  </tbody>\n",
       "</table>\n",
       "</div>"
      ],
      "text/plain": [
       "       country country_code  \\\n",
       "1      Belgium           BE   \n",
       "2      Germany           DE   \n",
       "3        Spain           ES   \n",
       "4  Netherlands           NL   \n",
       "\n",
       "                                             product  product_code  \\\n",
       "1  Motor cars and other motor vehicles principall...          8703   \n",
       "2  Parts and accessories for tractors, motor vehi...          8708   \n",
       "3  Motor cars and other motor vehicles principall...          8703   \n",
       "4  Petroleum oils and oils obtained from bitumino...          2710   \n",
       "\n",
       "      quantity  \n",
       "1  24712539381  \n",
       "2  20153724840  \n",
       "3  16420774433  \n",
       "4  15773706885  "
      ]
     },
     "execution_count": 7,
     "metadata": {},
     "output_type": "execute_result"
    }
   ],
   "source": [
    "df[1:5]"
   ]
  },
  {
   "cell_type": "code",
   "execution_count": 8,
   "metadata": {
    "collapsed": false
   },
   "outputs": [
    {
     "data": {
      "text/html": [
       "<div style=\"max-height:1000px;max-width:1500px;overflow:auto;\">\n",
       "<table border=\"1\" class=\"dataframe\">\n",
       "  <thead>\n",
       "    <tr style=\"text-align: right;\">\n",
       "      <th></th>\n",
       "      <th>country</th>\n",
       "      <th>product</th>\n",
       "    </tr>\n",
       "  </thead>\n",
       "  <tbody>\n",
       "    <tr>\n",
       "      <th>0  </th>\n",
       "      <td>        Germany</td>\n",
       "      <td> Motor cars and other motor vehicles principall...</td>\n",
       "    </tr>\n",
       "    <tr>\n",
       "      <th>1  </th>\n",
       "      <td>        Belgium</td>\n",
       "      <td> Motor cars and other motor vehicles principall...</td>\n",
       "    </tr>\n",
       "    <tr>\n",
       "      <th>2  </th>\n",
       "      <td>        Germany</td>\n",
       "      <td> Parts and accessories for tractors, motor vehi...</td>\n",
       "    </tr>\n",
       "    <tr>\n",
       "      <th>3  </th>\n",
       "      <td>          Spain</td>\n",
       "      <td> Motor cars and other motor vehicles principall...</td>\n",
       "    </tr>\n",
       "    <tr>\n",
       "      <th>4  </th>\n",
       "      <td>    Netherlands</td>\n",
       "      <td> Petroleum oils and oils obtained from bitumino...</td>\n",
       "    </tr>\n",
       "    <tr>\n",
       "      <th>5  </th>\n",
       "      <td>    Netherlands</td>\n",
       "      <td> Telephone sets, incl. telephones for cellular ...</td>\n",
       "    </tr>\n",
       "    <tr>\n",
       "      <th>6  </th>\n",
       "      <td>         Sweden</td>\n",
       "      <td> Petroleum oils and oils obtained from bitumino...</td>\n",
       "    </tr>\n",
       "    <tr>\n",
       "      <th>7  </th>\n",
       "      <td>    Netherlands</td>\n",
       "      <td>      Petroleum gas and other gaseous hydrocarbons</td>\n",
       "    </tr>\n",
       "    <tr>\n",
       "      <th>8  </th>\n",
       "      <td>        Germany</td>\n",
       "      <td> Medicaments consisting of mixed or unmixed pro...</td>\n",
       "    </tr>\n",
       "    <tr>\n",
       "      <th>9  </th>\n",
       "      <td>    Netherlands</td>\n",
       "      <td> Automatic data-processing machines and units t...</td>\n",
       "    </tr>\n",
       "    <tr>\n",
       "      <th>10 </th>\n",
       "      <td>         France</td>\n",
       "      <td> Motor cars and other motor vehicles principall...</td>\n",
       "    </tr>\n",
       "    <tr>\n",
       "      <th>11 </th>\n",
       "      <td>        Belgium</td>\n",
       "      <td> Medicaments consisting of mixed or unmixed pro...</td>\n",
       "    </tr>\n",
       "    <tr>\n",
       "      <th>12 </th>\n",
       "      <td> Irish Republic</td>\n",
       "      <td> Heterocyclic compounds with nitrogen hetero-at...</td>\n",
       "    </tr>\n",
       "    <tr>\n",
       "      <th>13 </th>\n",
       "      <td> Irish Republic</td>\n",
       "      <td> Medicaments consisting of mixed or unmixed pro...</td>\n",
       "    </tr>\n",
       "    <tr>\n",
       "      <th>14 </th>\n",
       "      <td>         France</td>\n",
       "      <td> Wine of fresh grapes, incl. fortified wines; g...</td>\n",
       "    </tr>\n",
       "    <tr>\n",
       "      <th>15 </th>\n",
       "      <td>         France</td>\n",
       "      <td> Parts and accessories for tractors, motor vehi...</td>\n",
       "    </tr>\n",
       "    <tr>\n",
       "      <th>16 </th>\n",
       "      <td>        Germany</td>\n",
       "      <td> Human blood; animal blood prepared for therape...</td>\n",
       "    </tr>\n",
       "    <tr>\n",
       "      <th>17 </th>\n",
       "      <td>    Netherlands</td>\n",
       "      <td> Medicaments consisting of mixed or unmixed pro...</td>\n",
       "    </tr>\n",
       "    <tr>\n",
       "      <th>18 </th>\n",
       "      <td>        Belgium</td>\n",
       "      <td> Petroleum oils and oils obtained from bitumino...</td>\n",
       "    </tr>\n",
       "    <tr>\n",
       "      <th>19 </th>\n",
       "      <td>    Netherlands</td>\n",
       "      <td> Printing machinery used for printing by means ...</td>\n",
       "    </tr>\n",
       "    <tr>\n",
       "      <th>20 </th>\n",
       "      <td>        Germany</td>\n",
       "      <td> Automatic data-processing machines and units t...</td>\n",
       "    </tr>\n",
       "    <tr>\n",
       "      <th>21 </th>\n",
       "      <td>         France</td>\n",
       "      <td> Medicaments consisting of mixed or unmixed pro...</td>\n",
       "    </tr>\n",
       "    <tr>\n",
       "      <th>22 </th>\n",
       "      <td>        Germany</td>\n",
       "      <td> Motor vehicles for the transport of goods, inc...</td>\n",
       "    </tr>\n",
       "    <tr>\n",
       "      <th>23 </th>\n",
       "      <td>    Netherlands</td>\n",
       "      <td> Human blood; animal blood prepared for therape...</td>\n",
       "    </tr>\n",
       "    <tr>\n",
       "      <th>24 </th>\n",
       "      <td>        Hungary</td>\n",
       "      <td> Telephone sets, incl. telephones for cellular ...</td>\n",
       "    </tr>\n",
       "    <tr>\n",
       "      <th>25 </th>\n",
       "      <td>         France</td>\n",
       "      <td> Petroleum oils and oils obtained from bitumino...</td>\n",
       "    </tr>\n",
       "    <tr>\n",
       "      <th>26 </th>\n",
       "      <td>        Germany</td>\n",
       "      <td> Parts suitable for use solely or principally w...</td>\n",
       "    </tr>\n",
       "    <tr>\n",
       "      <th>27 </th>\n",
       "      <td>          Italy</td>\n",
       "      <td> Medicaments consisting of mixed or unmixed pro...</td>\n",
       "    </tr>\n",
       "    <tr>\n",
       "      <th>28 </th>\n",
       "      <td>        Germany</td>\n",
       "      <td>                                               NaN</td>\n",
       "    </tr>\n",
       "    <tr>\n",
       "      <th>29 </th>\n",
       "      <td>         France</td>\n",
       "      <td>                                               NaN</td>\n",
       "    </tr>\n",
       "    <tr>\n",
       "      <th>...</th>\n",
       "      <td>...</td>\n",
       "      <td>...</td>\n",
       "    </tr>\n",
       "    <tr>\n",
       "      <th>970</th>\n",
       "      <td>         Poland</td>\n",
       "      <td> Safety glass, toughened \"tempered\", laminated ...</td>\n",
       "    </tr>\n",
       "    <tr>\n",
       "      <th>971</th>\n",
       "      <td>        Germany</td>\n",
       "      <td>                Builders' ware of plastics, n.e.s.</td>\n",
       "    </tr>\n",
       "    <tr>\n",
       "      <th>972</th>\n",
       "      <td>         Sweden</td>\n",
       "      <td> Parts suitable for use solely or principally w...</td>\n",
       "    </tr>\n",
       "    <tr>\n",
       "      <th>973</th>\n",
       "      <td>        Germany</td>\n",
       "      <td> Milk and cream, concentrated or containing add...</td>\n",
       "    </tr>\n",
       "    <tr>\n",
       "      <th>974</th>\n",
       "      <td>        Austria</td>\n",
       "      <td> Uncoated paper and paperboard, of a kind used ...</td>\n",
       "    </tr>\n",
       "    <tr>\n",
       "      <th>975</th>\n",
       "      <td>          Spain</td>\n",
       "      <td>          Cucumbers and gherkins, fresh or chilled</td>\n",
       "    </tr>\n",
       "    <tr>\n",
       "      <th>976</th>\n",
       "      <td>        Belgium</td>\n",
       "      <td> Carpets and other textile floor coverings, wov...</td>\n",
       "    </tr>\n",
       "    <tr>\n",
       "      <th>977</th>\n",
       "      <td>        Romania</td>\n",
       "      <td> Medicaments consisting of mixed or unmixed pro...</td>\n",
       "    </tr>\n",
       "    <tr>\n",
       "      <th>978</th>\n",
       "      <td>         France</td>\n",
       "      <td> Extracts, essences and concentrates, of coffee...</td>\n",
       "    </tr>\n",
       "    <tr>\n",
       "      <th>979</th>\n",
       "      <td>    Netherlands</td>\n",
       "      <td> Printed books, brochures and similar printed m...</td>\n",
       "    </tr>\n",
       "    <tr>\n",
       "      <th>980</th>\n",
       "      <td>          Italy</td>\n",
       "      <td> Instruments and appliances used in medical, su...</td>\n",
       "    </tr>\n",
       "    <tr>\n",
       "      <th>981</th>\n",
       "      <td>        Germany</td>\n",
       "      <td> Electrical capacitors, fixed, variable or adju...</td>\n",
       "    </tr>\n",
       "    <tr>\n",
       "      <th>982</th>\n",
       "      <td>    Netherlands</td>\n",
       "      <td> Paper, paperboard, cellulose wadding and webs ...</td>\n",
       "    </tr>\n",
       "    <tr>\n",
       "      <th>983</th>\n",
       "      <td>        Belgium</td>\n",
       "      <td> Parts and accessories (other than covers, carr...</td>\n",
       "    </tr>\n",
       "    <tr>\n",
       "      <th>984</th>\n",
       "      <td>        Austria</td>\n",
       "      <td> Medicaments consisting of mixed or unmixed pro...</td>\n",
       "    </tr>\n",
       "    <tr>\n",
       "      <th>985</th>\n",
       "      <td>        Denmark</td>\n",
       "      <td> Orthopaedic appliances, incl. crutches, surgic...</td>\n",
       "    </tr>\n",
       "    <tr>\n",
       "      <th>986</th>\n",
       "      <td>          Spain</td>\n",
       "      <td> Silver, incl. silver plated with gold or plati...</td>\n",
       "    </tr>\n",
       "    <tr>\n",
       "      <th>987</th>\n",
       "      <td>          Spain</td>\n",
       "      <td> Sauce and preparations therefor; mixed condime...</td>\n",
       "    </tr>\n",
       "    <tr>\n",
       "      <th>988</th>\n",
       "      <td> Irish Republic</td>\n",
       "      <td> Particle board, oriented strand board \"OSB\" an...</td>\n",
       "    </tr>\n",
       "    <tr>\n",
       "      <th>989</th>\n",
       "      <td>        Denmark</td>\n",
       "      <td> Taps, cocks, valves and similar appliances for...</td>\n",
       "    </tr>\n",
       "    <tr>\n",
       "      <th>990</th>\n",
       "      <td>         France</td>\n",
       "      <td> Synthetic rubber and factice derived from oils...</td>\n",
       "    </tr>\n",
       "    <tr>\n",
       "      <th>991</th>\n",
       "      <td>          Italy</td>\n",
       "      <td> Articles and equipment for general physical ex...</td>\n",
       "    </tr>\n",
       "    <tr>\n",
       "      <th>992</th>\n",
       "      <td>          Italy</td>\n",
       "      <td> Unglazed ceramic flags and paving, hearth or w...</td>\n",
       "    </tr>\n",
       "    <tr>\n",
       "      <th>993</th>\n",
       "      <td>          Spain</td>\n",
       "      <td>     Bars, rods and profiles, of aluminium, n.e.s.</td>\n",
       "    </tr>\n",
       "    <tr>\n",
       "      <th>994</th>\n",
       "      <td>    Netherlands</td>\n",
       "      <td> Cigars, cheroots, cigarillos and cigarettes of...</td>\n",
       "    </tr>\n",
       "    <tr>\n",
       "      <th>995</th>\n",
       "      <td>          Italy</td>\n",
       "      <td> Footwear with outer soles of rubber, plastics,...</td>\n",
       "    </tr>\n",
       "    <tr>\n",
       "      <th>996</th>\n",
       "      <td> Czech Republic</td>\n",
       "      <td> Sugar confectionery not containing cocoa, incl...</td>\n",
       "    </tr>\n",
       "    <tr>\n",
       "      <th>997</th>\n",
       "      <td>          Italy</td>\n",
       "      <td> Men's or boys' overcoats, car coats, capes, cl...</td>\n",
       "    </tr>\n",
       "    <tr>\n",
       "      <th>998</th>\n",
       "      <td>    Netherlands</td>\n",
       "      <td> Fork-lift trucks; other works trucks fitted wi...</td>\n",
       "    </tr>\n",
       "    <tr>\n",
       "      <th>999</th>\n",
       "      <td>          Spain</td>\n",
       "      <td> Jerseys, pullovers, cardigans, waistcoats and ...</td>\n",
       "    </tr>\n",
       "  </tbody>\n",
       "</table>\n",
       "<p>1000 rows × 2 columns</p>\n",
       "</div>"
      ],
      "text/plain": [
       "            country                                            product\n",
       "0           Germany  Motor cars and other motor vehicles principall...\n",
       "1           Belgium  Motor cars and other motor vehicles principall...\n",
       "2           Germany  Parts and accessories for tractors, motor vehi...\n",
       "3             Spain  Motor cars and other motor vehicles principall...\n",
       "4       Netherlands  Petroleum oils and oils obtained from bitumino...\n",
       "5       Netherlands  Telephone sets, incl. telephones for cellular ...\n",
       "6            Sweden  Petroleum oils and oils obtained from bitumino...\n",
       "7       Netherlands       Petroleum gas and other gaseous hydrocarbons\n",
       "8           Germany  Medicaments consisting of mixed or unmixed pro...\n",
       "9       Netherlands  Automatic data-processing machines and units t...\n",
       "10           France  Motor cars and other motor vehicles principall...\n",
       "11          Belgium  Medicaments consisting of mixed or unmixed pro...\n",
       "12   Irish Republic  Heterocyclic compounds with nitrogen hetero-at...\n",
       "13   Irish Republic  Medicaments consisting of mixed or unmixed pro...\n",
       "14           France  Wine of fresh grapes, incl. fortified wines; g...\n",
       "15           France  Parts and accessories for tractors, motor vehi...\n",
       "16          Germany  Human blood; animal blood prepared for therape...\n",
       "17      Netherlands  Medicaments consisting of mixed or unmixed pro...\n",
       "18          Belgium  Petroleum oils and oils obtained from bitumino...\n",
       "19      Netherlands  Printing machinery used for printing by means ...\n",
       "20          Germany  Automatic data-processing machines and units t...\n",
       "21           France  Medicaments consisting of mixed or unmixed pro...\n",
       "22          Germany  Motor vehicles for the transport of goods, inc...\n",
       "23      Netherlands  Human blood; animal blood prepared for therape...\n",
       "24          Hungary  Telephone sets, incl. telephones for cellular ...\n",
       "25           France  Petroleum oils and oils obtained from bitumino...\n",
       "26          Germany  Parts suitable for use solely or principally w...\n",
       "27            Italy  Medicaments consisting of mixed or unmixed pro...\n",
       "28          Germany                                                NaN\n",
       "29           France                                                NaN\n",
       "..              ...                                                ...\n",
       "970          Poland  Safety glass, toughened \"tempered\", laminated ...\n",
       "971         Germany                 Builders' ware of plastics, n.e.s.\n",
       "972          Sweden  Parts suitable for use solely or principally w...\n",
       "973         Germany  Milk and cream, concentrated or containing add...\n",
       "974         Austria  Uncoated paper and paperboard, of a kind used ...\n",
       "975           Spain           Cucumbers and gherkins, fresh or chilled\n",
       "976         Belgium  Carpets and other textile floor coverings, wov...\n",
       "977         Romania  Medicaments consisting of mixed or unmixed pro...\n",
       "978          France  Extracts, essences and concentrates, of coffee...\n",
       "979     Netherlands  Printed books, brochures and similar printed m...\n",
       "980           Italy  Instruments and appliances used in medical, su...\n",
       "981         Germany  Electrical capacitors, fixed, variable or adju...\n",
       "982     Netherlands  Paper, paperboard, cellulose wadding and webs ...\n",
       "983         Belgium  Parts and accessories (other than covers, carr...\n",
       "984         Austria  Medicaments consisting of mixed or unmixed pro...\n",
       "985         Denmark  Orthopaedic appliances, incl. crutches, surgic...\n",
       "986           Spain  Silver, incl. silver plated with gold or plati...\n",
       "987           Spain  Sauce and preparations therefor; mixed condime...\n",
       "988  Irish Republic  Particle board, oriented strand board \"OSB\" an...\n",
       "989         Denmark  Taps, cocks, valves and similar appliances for...\n",
       "990          France  Synthetic rubber and factice derived from oils...\n",
       "991           Italy  Articles and equipment for general physical ex...\n",
       "992           Italy  Unglazed ceramic flags and paving, hearth or w...\n",
       "993           Spain      Bars, rods and profiles, of aluminium, n.e.s.\n",
       "994     Netherlands  Cigars, cheroots, cigarillos and cigarettes of...\n",
       "995           Italy  Footwear with outer soles of rubber, plastics,...\n",
       "996  Czech Republic  Sugar confectionery not containing cocoa, incl...\n",
       "997           Italy  Men's or boys' overcoats, car coats, capes, cl...\n",
       "998     Netherlands  Fork-lift trucks; other works trucks fitted wi...\n",
       "999           Spain  Jerseys, pullovers, cardigans, waistcoats and ...\n",
       "\n",
       "[1000 rows x 2 columns]"
      ]
     },
     "execution_count": 8,
     "metadata": {},
     "output_type": "execute_result"
    }
   ],
   "source": [
    "#Selecting columns:\n",
    "\n",
    "list_of_columns = ['country', 'product']\n",
    "df[list_of_columns]"
   ]
  },
  {
   "cell_type": "code",
   "execution_count": 9,
   "metadata": {
    "collapsed": false
   },
   "outputs": [
    {
     "data": {
      "text/plain": [
       "0    Germany\n",
       "1    Belgium\n",
       "Name: country, dtype: object"
      ]
     },
     "execution_count": 9,
     "metadata": {},
     "output_type": "execute_result"
    }
   ],
   "source": [
    "#A single column is a 'series' rather than a 'dataframe'\n",
    "df['country'][:2]"
   ]
  },
  {
   "cell_type": "code",
   "execution_count": 10,
   "metadata": {
    "collapsed": false
   },
   "outputs": [
    {
     "data": {
      "text/html": [
       "<div style=\"max-height:1000px;max-width:1500px;overflow:auto;\">\n",
       "<table border=\"1\" class=\"dataframe\">\n",
       "  <thead>\n",
       "    <tr style=\"text-align: right;\">\n",
       "      <th></th>\n",
       "      <th>country</th>\n",
       "      <th>country_code</th>\n",
       "      <th>product</th>\n",
       "      <th>product_code</th>\n",
       "      <th>quantity</th>\n",
       "    </tr>\n",
       "  </thead>\n",
       "  <tbody>\n",
       "    <tr>\n",
       "      <th>296</th>\n",
       "      <td> Austria</td>\n",
       "      <td> AT</td>\n",
       "      <td> Motor vehicles for the transport of goods, inc...</td>\n",
       "      <td> 8704</td>\n",
       "      <td> 854688546</td>\n",
       "    </tr>\n",
       "    <tr>\n",
       "      <th>819</th>\n",
       "      <td> Austria</td>\n",
       "      <td> AT</td>\n",
       "      <td> Furniture and parts thereof, n.e.s. (excl. sea...</td>\n",
       "      <td> 9403</td>\n",
       "      <td> 318643495</td>\n",
       "    </tr>\n",
       "  </tbody>\n",
       "</table>\n",
       "</div>"
      ],
      "text/plain": [
       "     country country_code                                            product  \\\n",
       "296  Austria           AT  Motor vehicles for the transport of goods, inc...   \n",
       "819  Austria           AT  Furniture and parts thereof, n.e.s. (excl. sea...   \n",
       "\n",
       "     product_code   quantity  \n",
       "296          8704  854688546  \n",
       "819          9403  318643495  "
      ]
     },
     "execution_count": 10,
     "metadata": {},
     "output_type": "execute_result"
    }
   ],
   "source": [
    "#sorting is easy\n",
    "df.sort('country')[:2]"
   ]
  },
  {
   "cell_type": "code",
   "execution_count": 11,
   "metadata": {
    "collapsed": false
   },
   "outputs": [
    {
     "data": {
      "text/html": [
       "<div style=\"max-height:1000px;max-width:1500px;overflow:auto;\">\n",
       "<table border=\"1\" class=\"dataframe\">\n",
       "  <thead>\n",
       "    <tr style=\"text-align: right;\">\n",
       "      <th></th>\n",
       "      <th>country</th>\n",
       "      <th>country_code</th>\n",
       "      <th>product</th>\n",
       "      <th>product_code</th>\n",
       "      <th>quantity</th>\n",
       "    </tr>\n",
       "  </thead>\n",
       "  <tbody>\n",
       "    <tr>\n",
       "      <th>264</th>\n",
       "      <td> Sweden</td>\n",
       "      <td> SE</td>\n",
       "      <td> Uncoated kraft paper and paperboard, in rolls ...</td>\n",
       "      <td> 4804</td>\n",
       "      <td>  956239632</td>\n",
       "    </tr>\n",
       "    <tr>\n",
       "      <th>154</th>\n",
       "      <td> Sweden</td>\n",
       "      <td> SE</td>\n",
       "      <td> Uncoated paper and paperboard, of a kind used ...</td>\n",
       "      <td> 4802</td>\n",
       "      <td> 1437394112</td>\n",
       "    </tr>\n",
       "    <tr>\n",
       "      <th>567</th>\n",
       "      <td> Sweden</td>\n",
       "      <td> SE</td>\n",
       "      <td> Waste and scrap of precious metal or of metal ...</td>\n",
       "      <td> 7112</td>\n",
       "      <td>  472674382</td>\n",
       "    </tr>\n",
       "    <tr>\n",
       "      <th>813</th>\n",
       "      <td> Sweden</td>\n",
       "      <td> SE</td>\n",
       "      <td> Wood pulp obtained by a combination of mechani...</td>\n",
       "      <td> 4705</td>\n",
       "      <td>  320072579</td>\n",
       "    </tr>\n",
       "    <tr>\n",
       "      <th>51 </th>\n",
       "      <td> Sweden</td>\n",
       "      <td> SE</td>\n",
       "      <td> Wood sawn or chipped lengthwise, sliced or pee...</td>\n",
       "      <td> 4407</td>\n",
       "      <td> 3227097826</td>\n",
       "    </tr>\n",
       "  </tbody>\n",
       "</table>\n",
       "</div>"
      ],
      "text/plain": [
       "    country country_code                                            product  \\\n",
       "264  Sweden           SE  Uncoated kraft paper and paperboard, in rolls ...   \n",
       "154  Sweden           SE  Uncoated paper and paperboard, of a kind used ...   \n",
       "567  Sweden           SE  Waste and scrap of precious metal or of metal ...   \n",
       "813  Sweden           SE  Wood pulp obtained by a combination of mechani...   \n",
       "51   Sweden           SE  Wood sawn or chipped lengthwise, sliced or pee...   \n",
       "\n",
       "     product_code    quantity  \n",
       "264          4804   956239632  \n",
       "154          4802  1437394112  \n",
       "567          7112   472674382  \n",
       "813          4705   320072579  \n",
       "51           4407  3227097826  "
      ]
     },
     "execution_count": 11,
     "metadata": {},
     "output_type": "execute_result"
    }
   ],
   "source": [
    "#Multiple columns\n",
    "df.sort(['country','product']).tail()"
   ]
  },
  {
   "cell_type": "code",
   "execution_count": 12,
   "metadata": {
    "collapsed": true
   },
   "outputs": [],
   "source": [
    "#Filtering takes a little bit of time to get your head around\n",
    "#Essentially you provide a 'mask', which has a true or false for each row.\n",
    "#The rows corresponding to the 'trues' are kept and the rest are discarded\n",
    "\n",
    "#let's start with a really simple example"
   ]
  },
  {
   "cell_type": "code",
   "execution_count": 13,
   "metadata": {
    "collapsed": false
   },
   "outputs": [
    {
     "data": {
      "text/html": [
       "<div style=\"max-height:1000px;max-width:1500px;overflow:auto;\">\n",
       "<table border=\"1\" class=\"dataframe\">\n",
       "  <thead>\n",
       "    <tr style=\"text-align: right;\">\n",
       "      <th></th>\n",
       "      <th>a</th>\n",
       "    </tr>\n",
       "  </thead>\n",
       "  <tbody>\n",
       "    <tr>\n",
       "      <th>0</th>\n",
       "      <td> 10</td>\n",
       "    </tr>\n",
       "    <tr>\n",
       "      <th>1</th>\n",
       "      <td> 20</td>\n",
       "    </tr>\n",
       "    <tr>\n",
       "      <th>2</th>\n",
       "      <td> 30</td>\n",
       "    </tr>\n",
       "  </tbody>\n",
       "</table>\n",
       "</div>"
      ],
      "text/plain": [
       "    a\n",
       "0  10\n",
       "1  20\n",
       "2  30"
      ]
     },
     "execution_count": 13,
     "metadata": {},
     "output_type": "execute_result"
    }
   ],
   "source": [
    "df_simple = pd.DataFrame({'a':[10,20,30]})\n",
    "df_simple"
   ]
  },
  {
   "cell_type": "code",
   "execution_count": 14,
   "metadata": {
    "collapsed": false
   },
   "outputs": [
    {
     "data": {
      "text/html": [
       "<div style=\"max-height:1000px;max-width:1500px;overflow:auto;\">\n",
       "<table border=\"1\" class=\"dataframe\">\n",
       "  <thead>\n",
       "    <tr style=\"text-align: right;\">\n",
       "      <th></th>\n",
       "      <th>a</th>\n",
       "    </tr>\n",
       "  </thead>\n",
       "  <tbody>\n",
       "    <tr>\n",
       "      <th>0</th>\n",
       "      <td> 10</td>\n",
       "    </tr>\n",
       "    <tr>\n",
       "      <th>2</th>\n",
       "      <td> 30</td>\n",
       "    </tr>\n",
       "  </tbody>\n",
       "</table>\n",
       "</div>"
      ],
      "text/plain": [
       "    a\n",
       "0  10\n",
       "2  30"
      ]
     },
     "execution_count": 14,
     "metadata": {},
     "output_type": "execute_result"
    }
   ],
   "source": [
    "df_simple[[True, False, True]]"
   ]
  },
  {
   "cell_type": "code",
   "execution_count": 15,
   "metadata": {
    "collapsed": false
   },
   "outputs": [
    {
     "data": {
      "text/plain": [
       "0    False\n",
       "1     True\n",
       "2     True\n",
       "Name: a, dtype: bool"
      ]
     },
     "execution_count": 15,
     "metadata": {},
     "output_type": "execute_result"
    }
   ],
   "source": [
    "#How can we use this in a way that's actually useful?\n",
    "#Consider the following statement:\n",
    "df_simple['a'] > 10"
   ]
  },
  {
   "cell_type": "code",
   "execution_count": 16,
   "metadata": {
    "collapsed": true
   },
   "outputs": [],
   "source": [
    "#So we can use the result of this as our filter\n",
    "my_filter = (df_simple['a'] > 10)"
   ]
  },
  {
   "cell_type": "code",
   "execution_count": 17,
   "metadata": {
    "collapsed": false
   },
   "outputs": [
    {
     "data": {
      "text/html": [
       "<div style=\"max-height:1000px;max-width:1500px;overflow:auto;\">\n",
       "<table border=\"1\" class=\"dataframe\">\n",
       "  <thead>\n",
       "    <tr style=\"text-align: right;\">\n",
       "      <th></th>\n",
       "      <th>a</th>\n",
       "    </tr>\n",
       "  </thead>\n",
       "  <tbody>\n",
       "    <tr>\n",
       "      <th>1</th>\n",
       "      <td> 20</td>\n",
       "    </tr>\n",
       "    <tr>\n",
       "      <th>2</th>\n",
       "      <td> 30</td>\n",
       "    </tr>\n",
       "  </tbody>\n",
       "</table>\n",
       "</div>"
      ],
      "text/plain": [
       "    a\n",
       "1  20\n",
       "2  30"
      ]
     },
     "execution_count": 17,
     "metadata": {},
     "output_type": "execute_result"
    }
   ],
   "source": [
    "df_simple[df_simple['a'] > 10]"
   ]
  },
  {
   "cell_type": "code",
   "execution_count": 18,
   "metadata": {
    "collapsed": false
   },
   "outputs": [
    {
     "data": {
      "text/html": [
       "<div style=\"max-height:1000px;max-width:1500px;overflow:auto;\">\n",
       "<table border=\"1\" class=\"dataframe\">\n",
       "  <thead>\n",
       "    <tr style=\"text-align: right;\">\n",
       "      <th></th>\n",
       "      <th>country</th>\n",
       "      <th>country_code</th>\n",
       "      <th>product</th>\n",
       "      <th>product_code</th>\n",
       "      <th>quantity</th>\n",
       "    </tr>\n",
       "  </thead>\n",
       "  <tbody>\n",
       "    <tr>\n",
       "      <th>264</th>\n",
       "      <td> Sweden</td>\n",
       "      <td> SE</td>\n",
       "      <td> Uncoated kraft paper and paperboard, in rolls ...</td>\n",
       "      <td> 4804</td>\n",
       "      <td> 956239632</td>\n",
       "    </tr>\n",
       "  </tbody>\n",
       "</table>\n",
       "</div>"
      ],
      "text/plain": [
       "    country country_code                                            product  \\\n",
       "264  Sweden           SE  Uncoated kraft paper and paperboard, in rolls ...   \n",
       "\n",
       "     product_code   quantity  \n",
       "264          4804  956239632  "
      ]
     },
     "execution_count": 18,
     "metadata": {},
     "output_type": "execute_result"
    }
   ],
   "source": [
    "#We can use multiple filters\n",
    "filter_1 = (df['country'] == 'Sweden')\n",
    "filter_2 = (df['product_code'] == 4804)\n",
    "\n",
    "df[filter_1 & filter_2]"
   ]
  },
  {
   "cell_type": "markdown",
   "metadata": {},
   "source": [
    "####Exercises"
   ]
  },
  {
   "cell_type": "code",
   "execution_count": 19,
   "metadata": {
    "collapsed": true
   },
   "outputs": [],
   "source": [
    "#1.  Filter the dataframe to contain only records where the country is Germany"
   ]
  },
  {
   "cell_type": "code",
   "execution_count": 20,
   "metadata": {
    "collapsed": true
   },
   "outputs": [],
   "source": [
    "#2.  How many rows are there where the country is Germany"
   ]
  },
  {
   "cell_type": "code",
   "execution_count": 21,
   "metadata": {
    "collapsed": true
   },
   "outputs": [],
   "source": [
    "#3.   How would you take a random sample of the rows in the table?"
   ]
  },
  {
   "cell_type": "code",
   "execution_count": null,
   "metadata": {
    "collapsed": true
   },
   "outputs": [],
   "source": []
  }
 ],
 "metadata": {
  "kernelspec": {
   "display_name": "Python 2",
   "language": "python",
   "name": "python2"
  },
  "language_info": {
   "codemirror_mode": {
    "name": "ipython",
    "version": 2
   },
   "file_extension": ".py",
   "mimetype": "text/x-python",
   "name": "python",
   "nbconvert_exporter": "python",
   "pygments_lexer": "ipython2",
   "version": "2.7.6"
  }
 },
 "nbformat": 4,
 "nbformat_minor": 0
}
